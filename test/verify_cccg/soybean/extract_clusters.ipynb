{
 "cells": [
  {
   "cell_type": "code",
   "execution_count": 4,
   "metadata": {
    "collapsed": true
   },
   "outputs": [],
   "source": [
    "import sys\n",
    "sys.path.append('../../../python')\n",
    "import os\n",
    "import re\n",
    "from os.path import join as ojoin"
   ]
  },
  {
   "cell_type": "code",
   "execution_count": 5,
   "metadata": {
    "collapsed": false
   },
   "outputs": [],
   "source": [
    "from cop_kmeans import cop_kmeans, euclidean_distance\n",
    "\n",
    "def read_data(datafile):\n",
    "    data = []\n",
    "    with open(datafile, 'r') as f:\n",
    "        for line in f:\n",
    "            line = line.strip()\n",
    "            if line != '':\n",
    "                d = [float(i) for i in line.split()]\n",
    "                data.append(d)\n",
    "    return data\n",
    "\n",
    "def read_constraints(consfile):\n",
    "    ml, cl = [], []\n",
    "    with open(consfile, 'r') as f:\n",
    "        for line in f:\n",
    "            line = line.strip()\n",
    "            if line != '':\n",
    "                line = line.split()\n",
    "                constraint = (int(line[0]), int(line[1]))\n",
    "                c = int(line[2])\n",
    "                if c == 1:\n",
    "                    ml.append(constraint)\n",
    "                if c == -1:\n",
    "                    cl.append(constraint)\n",
    "    return ml, cl\n",
    "\n",
    "def cluster_quality(cluster):\n",
    "    if len(cluster) == 0:\n",
    "        return 0.0\n",
    "       \n",
    "    quality = 0.0\n",
    "    for i in range(len(cluster)):\n",
    "        for j in range(i, len(cluster)):\n",
    "            quality += euclidean_distance(cluster[i], cluster[j])**2\n",
    "    return quality / len(cluster)\n",
    "    \n",
    "def compute_quality(data, cluster_indices):\n",
    "    clusters = dict()\n",
    "    for i, c in enumerate(cluster_indices):\n",
    "        if c in clusters:\n",
    "            clusters[c].append(data[i])\n",
    "        else:\n",
    "            clusters[c] = [data[i]]\n",
    "    return sum(cluster_quality(c) for c in clusters.values())\n",
    "\n",
    "def transitive_closure(ml, cl, n):\n",
    "    ml_graph = dict()\n",
    "    cl_graph = dict()\n",
    "    for i in range(n):\n",
    "        ml_graph[i] = set()\n",
    "        cl_graph[i] = set()\n",
    "\n",
    "    def add_both(d, i, j):\n",
    "        d[i].add(j)\n",
    "        d[j].add(i)\n",
    "\n",
    "    for (i, j) in ml:\n",
    "        add_both(ml_graph, i, j)\n",
    "\n",
    "    def dfs(i, graph, visited, component):\n",
    "        visited[i] = True\n",
    "        for j in graph[i]:\n",
    "            if not visited[j]:\n",
    "                dfs(j, graph, visited, component)\n",
    "        component.append(i)\n",
    "\n",
    "    visited = [False] * n\n",
    "    for i in range(n):\n",
    "        if not visited[i]:\n",
    "            component = []\n",
    "            dfs(i, ml_graph, visited, component)\n",
    "            for x1 in component:\n",
    "                for x2 in component:\n",
    "                    if x1 != x2:\n",
    "                        ml_graph[x1].add(x2)\n",
    "    for (i, j) in cl:\n",
    "        add_both(cl_graph, i, j)\n",
    "        for y in ml_graph[j]:\n",
    "            add_both(cl_graph, i, y)\n",
    "        for x in ml_graph[i]:\n",
    "            add_both(cl_graph, x, j)\n",
    "            for y in ml_graph[j]:\n",
    "                add_both(cl_graph, x, y)\n",
    "\n",
    "    for i in ml_graph:\n",
    "        for j in ml_graph[i]:\n",
    "            if j != i and j in cl_graph[i]:\n",
    "                raise Exception('inconsistent constraints between %d and %d' %(i, j))\n",
    "\n",
    "    return ml_graph, cl_graph"
   ]
  },
  {
   "cell_type": "code",
   "execution_count": 6,
   "metadata": {
    "collapsed": true
   },
   "outputs": [],
   "source": [
    "def get_points(line):\n",
    "    line = line.split()\n",
    "    points = []\n",
    "    for entry in line:\n",
    "        if not '..' in entry:\n",
    "            points.append(int(entry))\n",
    "        else:\n",
    "            first, last = [int(i) for i in entry.split('..')]\n",
    "            points += list(range(first, last+1))\n",
    "    return points\n"
   ]
  },
  {
   "cell_type": "code",
   "execution_count": 7,
   "metadata": {
    "collapsed": false
   },
   "outputs": [],
   "source": [
    "\n",
    "def get_clusters(fname):\n",
    "    clusters = dict()\n",
    "    num_points = -1\n",
    "    with open(fname, 'r') as f:\n",
    "        for line in f:\n",
    "            line = line.strip()\n",
    "            if line.startswith('Cluster'):\n",
    "                line = line.split(':')\n",
    "                cluster_id = int(line[0][len('Cluster'):])\n",
    "                points = line[1].strip()\n",
    "                points = get_points(points)\n",
    "                num_points = max(num_points, max(points))\n",
    "                clusters[cluster_id] = points\n",
    "    assignments = [-1] * (num_points+1)\n",
    "    for cluster_id in clusters:\n",
    "        for point_id in clusters[cluster_id]:\n",
    "            assignments[point_id] = cluster_id - 1\n",
    "    return assignments"
   ]
  },
  {
   "cell_type": "code",
   "execution_count": 14,
   "metadata": {
    "collapsed": true
   },
   "outputs": [],
   "source": [
    "def check_solved(fname):\n",
    "    with open(fname) as f:\n",
    "        line = f.readline()\n",
    "    solved = ('problem is solved' in line)\n",
    "    opt = ('[optimal solution found]' in line)\n",
    "    return solved, opt"
   ]
  },
  {
   "cell_type": "code",
   "execution_count": 16,
   "metadata": {
    "collapsed": false
   },
   "outputs": [],
   "source": [
    "ds = 'soybean'\n",
    "rootdir = '.'\n",
    "datafile = '../../../data/%s/%s.data'%(ds, ds)\n",
    "data = read_data(datafile)\n",
    "with open('../../../data/%s/solutions/objective_values.txt'%ds, 'w') as f:\n",
    "    print('#c\\tk\\tobj. value', file=f)\n",
    "    print('-'*26, file=f)\n",
    "    for fname in os.listdir(rootdir):\n",
    "        if not fname.startswith(ds): continue\n",
    "        x = re.match(r'%s\\.(\\d+)\\.(\\d+)'%ds, fname)\n",
    "        ncons = int(x.group(1))\n",
    "        k = int(x.group(2))\n",
    "        fname = ojoin(rootdir, fname)\n",
    "        solved, opt = check_solved(fname)\n",
    "        if opt:\n",
    "            cluster_indices = get_clusters(fname)\n",
    "            with open('../../../data/%s/solutions/solution.%d.%d'%(ds, ncons, k), 'w') as g:\n",
    "                print('\\n'.join(str(j) for j in cluster_indices), file=g)\n",
    "            print('%d\\t%d\\t%.4f'%(ncons, k, compute_quality(data, cluster_indices)), file=f)\n",
    "        elif solved:\n",
    "            print('%d\\t%d\\tINF'%(ncons, k), file=f)\n",
    "        else:\n",
    "            with open(fname) as h:\n",
    "                quality = float(h.readline())\n",
    "            print('%d\\t%d\\t~%.4f'%(ncons, k, quality), file=f)"
   ]
  },
  {
   "cell_type": "code",
   "execution_count": 18,
   "metadata": {
    "collapsed": true
   },
   "outputs": [],
   "source": [
    "def verify_constraints(datafile, clusterfile, consfile):\n",
    "    data = read_data(datafile)\n",
    "    ml, cl = read_constraints(consfile)\n",
    "    ml, cl = transitive_closure(ml, cl, len(data))\n",
    "    for point_id in range(len(data)):\n",
    "        cluster_indices = get_clusters(clusterfile)\n",
    "        ml_points = ml[point_id]\n",
    "        for id2 in ml_points:\n",
    "            if cluster_indices[point_id] != cluster_indices[id2]:\n",
    "                return False\n",
    "        cl_points = cl[point_id]\n",
    "        for id2 in cl_points:\n",
    "            if cluster_indices[point_id] == cluster_indices[id2]:\n",
    "                return False\n",
    "    return True"
   ]
  },
  {
   "cell_type": "code",
   "execution_count": 19,
   "metadata": {
    "collapsed": false
   },
   "outputs": [
    {
     "name": "stdout",
     "output_type": "stream",
     "text": [
      "soybean.60.4 True\n",
      "soybean.80.4 True\n",
      "soybean.40.4 True\n",
      "soybean.60.5 True\n",
      "soybean.40.5 True\n",
      "soybean.10.4 True\n",
      "soybean.40.3 True\n",
      "soybean.80.5 True\n",
      "soybean.20.4 True\n",
      "soybean.10.5 True\n",
      "soybean.20.3 True\n",
      "soybean.60.3 True\n",
      "soybean.20.5 True\n"
     ]
    }
   ],
   "source": [
    "ds = 'soybean'\n",
    "datafile = '../../../data/%s/%s.data'%(ds, ds)\n",
    "rootdir = '.'\n",
    "for fname in os.listdir(rootdir):\n",
    "    if not fname.startswith(ds): continue\n",
    "    solved, opt = check_solved(fname)\n",
    "    if not opt: continue\n",
    "    x = re.match(r'%s\\.(\\d+)\\.\\d+'%ds, fname)\n",
    "    ncons = int(x.group(1))\n",
    "    clusterfile = ojoin(rootdir, fname)\n",
    "    consfile = '../../../data/%s/constraints/%s.%d.cons' %(ds, ds, ncons)\n",
    "    res = verify_constraints(datafile, clusterfile, consfile)\n",
    "    print(fname, res)"
   ]
  }
 ],
 "metadata": {
  "kernelspec": {
   "display_name": "Python 3",
   "language": "python",
   "name": "python3"
  },
  "language_info": {
   "codemirror_mode": {
    "name": "ipython",
    "version": 3
   },
   "file_extension": ".py",
   "mimetype": "text/x-python",
   "name": "python",
   "nbconvert_exporter": "python",
   "pygments_lexer": "ipython3",
   "version": "3.4.3"
  }
 },
 "nbformat": 4,
 "nbformat_minor": 1
}
