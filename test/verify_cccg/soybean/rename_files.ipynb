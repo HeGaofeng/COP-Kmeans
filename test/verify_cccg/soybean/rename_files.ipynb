{
 "cells": [
  {
   "cell_type": "code",
   "execution_count": null,
   "metadata": {
    "collapsed": true
   },
   "outputs": [],
   "source": [
    "import os, sys\n",
    "import re"
   ]
  },
  {
   "cell_type": "code",
   "execution_count": null,
   "metadata": {
    "collapsed": false,
    "scrolled": true
   },
   "outputs": [],
   "source": [
    "ncons_list = [2, 10, 20, 40, 60, 80]\n",
    "nclust_list = [3, 4, 5]\n",
    "for fname in os.listdir('.'):\n",
    "    out = re.match(r'[\\w-]+\\.\\w+\\.\\w+\\.(\\d+)\\.(\\d+)', fname)\n",
    "    if not out: continue\n",
    "    ncons = int(out.group(1))\n",
    "    nclust = int(out.group(2))\n",
    "    if (ncons in ncons_list and nclust in nclust_list):\n",
    "        os.rename(fname, 'soybean.%d.%d'%(ncons, nclust))\n",
    "        print('renamed %s'%fname)\n",
    "    else:\n",
    "        os.remove(fname)\n",
    "        print('removed %s'%fname)"
   ]
  }
 ],
 "metadata": {
  "kernelspec": {
   "display_name": "Python 3",
   "language": "python",
   "name": "python3"
  },
  "language_info": {
   "codemirror_mode": {
    "name": "ipython",
    "version": 3
   },
   "file_extension": ".py",
   "mimetype": "text/x-python",
   "name": "python",
   "nbconvert_exporter": "python",
   "pygments_lexer": "ipython3",
   "version": "3.4.3"
  }
 },
 "nbformat": 4,
 "nbformat_minor": 0
}
