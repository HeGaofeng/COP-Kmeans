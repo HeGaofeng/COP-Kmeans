{
 "cells": [
  {
   "cell_type": "code",
   "execution_count": 1,
   "metadata": {
    "collapsed": true
   },
   "outputs": [],
   "source": [
    "import os"
   ]
  },
  {
   "cell_type": "code",
   "execution_count": 13,
   "metadata": {
    "collapsed": false
   },
   "outputs": [],
   "source": [
    "def is_number(s):\n",
    "    try:\n",
    "        float(s)\n",
    "        return True\n",
    "    except ValueError:\n",
    "        pass\n",
    "    return False"
   ]
  },
  {
   "cell_type": "code",
   "execution_count": 19,
   "metadata": {
    "collapsed": false
   },
   "outputs": [],
   "source": [
    "def find_best(fname):\n",
    "    best = None\n",
    "    with open(fname) as f:\n",
    "        for line in f:\n",
    "            if line.count('|') == 17:\n",
    "                primal = line.split('|')[-2]\n",
    "                if is_number(primal):\n",
    "                    best = float(primal)\n",
    "    with open(fname, 'w') as f:\n",
    "        print(best, file=f)"
   ]
  },
  {
   "cell_type": "code",
   "execution_count": 20,
   "metadata": {
    "collapsed": true
   },
   "outputs": [],
   "source": [
    "def cut_lines(fname):\n",
    "    found = False\n",
    "    lines = []\n",
    "    with open(fname) as f:\n",
    "        for line in f:\n",
    "            if not found and line.startswith('SCIP Status        : problem is solved'):\n",
    "                found = True\n",
    "            if found: lines.append(line)\n",
    "    with open(fname, 'w') as f:\n",
    "        print(''.join(lines), file=f)"
   ]
  },
  {
   "cell_type": "code",
   "execution_count": 21,
   "metadata": {
    "collapsed": false
   },
   "outputs": [],
   "source": [
    "for fname in os.listdir('.'):\n",
    "    if not fname.startswith('soybean'): continue\n",
    "    solved = False\n",
    "    with open(fname) as f:\n",
    "        for line in f:\n",
    "            if line.startswith('SCIP Status        : problem is solved'):\n",
    "                solved = True\n",
    "                break\n",
    "\n",
    "    if solved: \n",
    "        cut_lines(fname)\n",
    "    else:\n",
    "        find_best(fname)"
   ]
  }
 ],
 "metadata": {
  "kernelspec": {
   "display_name": "Python 3",
   "language": "python",
   "name": "python3"
  },
  "language_info": {
   "codemirror_mode": {
    "name": "ipython",
    "version": 3
   },
   "file_extension": ".py",
   "mimetype": "text/x-python",
   "name": "python",
   "nbconvert_exporter": "python",
   "pygments_lexer": "ipython3",
   "version": "3.4.3"
  }
 },
 "nbformat": 4,
 "nbformat_minor": 0
}
